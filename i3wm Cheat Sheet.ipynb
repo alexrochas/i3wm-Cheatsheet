{
 "cells": [
  {
   "cell_type": "code",
   "execution_count": 111,
   "metadata": {},
   "outputs": [
    {
     "name": "stdout",
     "output_type": "stream",
     "text": [
      "$mod+Return                    exec ~/.config/i3/shell        # bindsym $mod+Return exec i3-sensible-terminal\n",
      "$mod+Shift+Q                   kill                           # kill focused window\n",
      "$mod+d                         exec dmenu_run -p alex$        # start dmenu (a program launcher)\n",
      "$mod+h                         focus left                     # change focus\n",
      "$mod+j                         focus down                     \n",
      "$mod+k                         focus up                       \n",
      "$mod+l                         focus right                    \n",
      "$mod+Left                      focus left                     # alternatively, you can use the cursor keys:\n",
      "$mod+Down                      focus down                     \n",
      "$mod+Up                        focus up                       \n",
      "$mod+Right                     focus right                    \n",
      "$mod+Shift+H                   move left                      # move focused window\n",
      "$mod+Shift+J                   move down                      \n",
      "$mod+Shift+K                   move up                        \n",
      "$mod+Shift+L                   move right                     \n",
      "$mod+60                        workspace next_on_output       # switch workspace\n",
      "$mod+59                        workspace prev_on_output       \n",
      "$mod+n                         exec i3-input -F 'rename workspace to \"%s\"' -P 'New name: ' # rename workspaces\n",
      "$mod+Shift+Left                move left                      # alternatively, you can use the cursor keys:\n",
      "$mod+Shift+Down                move down                      \n",
      "$mod+Shift+Up                  move up                        \n",
      "$mod+Shift+Right               move right                     \n",
      "$mod+Shift+v                   split h                        # split in horizontal orientation\n",
      "$mod+v                         split v                        # split in vertical orientation\n",
      "$mod+f                         fullscreen                     # enter fullscreen mode for the focused container\n",
      "$mod+s                         layout stacking                # change container layout (stacked, tabbed, default)\n",
      "$mod+w                         layout tabbed                  \n",
      "$mod+e                         layout default                 \n",
      "$mod+Shift+space               floating toggle                # toggle tiling / floating\n",
      "$mod+space                     focus mode_toggle              # change focus between tiling / floating windows\n",
      "$mod+a                         focus parent                   # focus the parent container\n",
      "$mod+z                         focus child                    # focus the child container\n",
      "$mod+1                         workspace 1: Workbench         # switch to workspace\n",
      "$mod+2                         workspace 2: Web               \n",
      "$mod+3                         workspace 3: IDE               \n",
      "$mod+4                         workspace 4: Job               \n",
      "$mod+5                         workspace 5: Mail              \n",
      "$mod+6                         workspace 6: Documents         \n",
      "$mod+7                         workspace 7: Helper            \n",
      "$mod+8                         workspace 8: SQL               \n",
      "$mod+9                         workspace 9: VIM               \n",
      "$mod+0                         workspace 10: Play             \n",
      "$mod+Shift+10                  move workspace 1: Workbench; workspace 1: Workbench # move focused container to workspace\n",
      "$mod+Shift+11                  move workspace 2: Web; workspace 2: Web \n",
      "$mod+Shift+12                  move workspace 3: IDE; workspace 3: IDE \n",
      "$mod+Shift+13                  move workspace 4: Job; workspace 4: Job \n",
      "$mod+Shift+14                  move workspace 5: Mail; workspace 5: Mail \n",
      "$mod+Shift+15                  move workspace 6: Documents; workspace 6: Documents \n",
      "$mod+Shift+16                  move workspace 7: Helper; workspace 7: Helper \n",
      "$mod+Shift+17                  move workspace 8: SQL; workspace 8: SQL \n",
      "$mod+Shift+18                  move workspace 9: VIM; workspace 9: VIM \n",
      "$mod+Shift+19                  move workspace 10: Play; workspace 10: Play \n",
      "$mod+Shift+C                   reload                         # reload the configuration file\n",
      "$mod+Shift+R                   restart                        # restart i3 inplace (preserves your layout/session, can be used to upgrade i3)\n",
      "$mod+Shift+E                   exec \"i3-nagbar -t warning -m 'You pressed the exit shortcut. Do you really want to exit i3? This will end your X session.' -b 'Yes, exit i3' 'i3-msg exit'\" # exit i3 (logs you out of your X session)\n",
      "$mod+r                         mode \"resize\"                  \n",
      "XF86AudioLowerVolume           exec --no-startup-id amixer -D pulse sset Master 3%- # sound\n",
      "XF86AudioRaiseVolume           exec --no-startup-id amixer -D pulse sset Master 3%+ \n",
      "XF86AudioMute                  exec amixer -q -D pulse sset Master toggle \n",
      "XF86MonBrightnessDown          exec xbacklight -dec 10        # brightness\n",
      "XF86MonBrightnessUp            exec xbacklight -inc 10        \n",
      "mod1+control+l                 exec xscreensaver-command -lock # start xscreensaver\n",
      "$mod+Shift+49                  move scratchpad                # scratchpad\n",
      "$mod+49                        scratchpad show                \n",
      "$mod+Shift+P                   move workspace to output HDMI-1 # keys to move workspace through outputs\n",
      "$mod+p                         move workspace to output eDP-1 \n"
     ]
    },
    {
     "data": {
      "text/plain": [
       "[{:bind=>\"$mod+Return\", :action=>\"exec ~/.config/i3/shell\", :commentary=>\"# bindsym $mod+Return exec i3-sensible-terminal\"}, {:bind=>\"$mod+Shift+Q\", :action=>\"kill\", :commentary=>\"# kill focused window\"}, {:bind=>\"$mod+d\", :action=>\"exec dmenu_run -p alex$\", :commentary=>\"# start dmenu (a program launcher)\"}, {:bind=>\"$mod+h\", :action=>\"focus left\", :commentary=>\"# change focus\"}, {:bind=>\"$mod+j\", :action=>\"focus down\", :commentary=>nil}, {:bind=>\"$mod+k\", :action=>\"focus up\", :commentary=>nil}, {:bind=>\"$mod+l\", :action=>\"focus right\", :commentary=>nil}, {:bind=>\"$mod+Left\", :action=>\"focus left\", :commentary=>\"# alternatively, you can use the cursor keys:\"}, {:bind=>\"$mod+Down\", :action=>\"focus down\", :commentary=>nil}, {:bind=>\"$mod+Up\", :action=>\"focus up\", :commentary=>nil}, {:bind=>\"$mod+Right\", :action=>\"focus right\", :commentary=>nil}, {:bind=>\"$mod+Shift+H\", :action=>\"move left\", :commentary=>\"# move focused window\"}, {:bind=>\"$mod+Shift+J\", :action=>\"move down\", :commentary=>nil}, {:bind=>\"$mod+Shift+K\", :action=>\"move up\", :commentary=>nil}, {:bind=>\"$mod+Shift+L\", :action=>\"move right\", :commentary=>nil}, {:bind=>\"$mod+60\", :action=>\"workspace next_on_output\", :commentary=>\"# switch workspace\"}, {:bind=>\"$mod+59\", :action=>\"workspace prev_on_output\", :commentary=>nil}, {:bind=>\"$mod+n\", :action=>\"exec i3-input -F 'rename workspace to \\\"%s\\\"' -P 'New name: '\", :commentary=>\"# rename workspaces\"}, {:bind=>\"$mod+Shift+Left\", :action=>\"move left\", :commentary=>\"# alternatively, you can use the cursor keys:\"}, {:bind=>\"$mod+Shift+Down\", :action=>\"move down\", :commentary=>nil}, {:bind=>\"$mod+Shift+Up\", :action=>\"move up\", :commentary=>nil}, {:bind=>\"$mod+Shift+Right\", :action=>\"move right\", :commentary=>nil}, {:bind=>\"$mod+Shift+v\", :action=>\"split h\", :commentary=>\"# split in horizontal orientation\"}, {:bind=>\"$mod+v\", :action=>\"split v\", :commentary=>\"# split in vertical orientation\"}, {:bind=>\"$mod+f\", :action=>\"fullscreen\", :commentary=>\"# enter fullscreen mode for the focused container\"}, {:bind=>\"$mod+s\", :action=>\"layout stacking\", :commentary=>\"# change container layout (stacked, tabbed, default)\"}, {:bind=>\"$mod+w\", :action=>\"layout tabbed\", :commentary=>nil}, {:bind=>\"$mod+e\", :action=>\"layout default\", :commentary=>nil}, {:bind=>\"$mod+Shift+space\", :action=>\"floating toggle\", :commentary=>\"# toggle tiling / floating\"}, {:bind=>\"$mod+space\", :action=>\"focus mode_toggle\", :commentary=>\"# change focus between tiling / floating windows\"}, {:bind=>\"$mod+a\", :action=>\"focus parent\", :commentary=>\"# focus the parent container\"}, {:bind=>\"$mod+z\", :action=>\"focus child\", :commentary=>\"# focus the child container\"}, {:bind=>\"$mod+1\", :action=>\"workspace 1: Workbench\", :commentary=>\"# switch to workspace\"}, {:bind=>\"$mod+2\", :action=>\"workspace 2: Web\", :commentary=>nil}, {:bind=>\"$mod+3\", :action=>\"workspace 3: IDE\", :commentary=>nil}, {:bind=>\"$mod+4\", :action=>\"workspace 4: Job\", :commentary=>nil}, {:bind=>\"$mod+5\", :action=>\"workspace 5: Mail\", :commentary=>nil}, {:bind=>\"$mod+6\", :action=>\"workspace 6: Documents\", :commentary=>nil}, {:bind=>\"$mod+7\", :action=>\"workspace 7: Helper\", :commentary=>nil}, {:bind=>\"$mod+8\", :action=>\"workspace 8: SQL\", :commentary=>nil}, {:bind=>\"$mod+9\", :action=>\"workspace 9: VIM\", :commentary=>nil}, {:bind=>\"$mod+0\", :action=>\"workspace 10: Play\", :commentary=>nil}, {:bind=>\"$mod+Shift+10\", :action=>\"move workspace 1: Workbench; workspace 1: Workbench\", :commentary=>\"# move focused container to workspace\"}, {:bind=>\"$mod+Shift+11\", :action=>\"move workspace 2: Web; workspace 2: Web\", :commentary=>nil}, {:bind=>\"$mod+Shift+12\", :action=>\"move workspace 3: IDE; workspace 3: IDE\", :commentary=>nil}, {:bind=>\"$mod+Shift+13\", :action=>\"move workspace 4: Job; workspace 4: Job\", :commentary=>nil}, {:bind=>\"$mod+Shift+14\", :action=>\"move workspace 5: Mail; workspace 5: Mail\", :commentary=>nil}, {:bind=>\"$mod+Shift+15\", :action=>\"move workspace 6: Documents; workspace 6: Documents\", :commentary=>nil}, {:bind=>\"$mod+Shift+16\", :action=>\"move workspace 7: Helper; workspace 7: Helper\", :commentary=>nil}, {:bind=>\"$mod+Shift+17\", :action=>\"move workspace 8: SQL; workspace 8: SQL\", :commentary=>nil}, {:bind=>\"$mod+Shift+18\", :action=>\"move workspace 9: VIM; workspace 9: VIM\", :commentary=>nil}, {:bind=>\"$mod+Shift+19\", :action=>\"move workspace 10: Play; workspace 10: Play\", :commentary=>nil}, {:bind=>\"$mod+Shift+C\", :action=>\"reload\", :commentary=>\"# reload the configuration file\"}, {:bind=>\"$mod+Shift+R\", :action=>\"restart\", :commentary=>\"# restart i3 inplace (preserves your layout/session, can be used to upgrade i3)\"}, {:bind=>\"$mod+Shift+E\", :action=>\"exec \\\"i3-nagbar -t warning -m 'You pressed the exit shortcut. Do you really want to exit i3? This will end your X session.' -b 'Yes, exit i3' 'i3-msg exit'\\\"\", :commentary=>\"# exit i3 (logs you out of your X session)\"}, {:bind=>\"$mod+r\", :action=>\"mode \\\"resize\\\"\", :commentary=>nil}, {:bind=>\"XF86AudioLowerVolume\", :action=>\"exec --no-startup-id amixer -D pulse sset Master 3%-\", :commentary=>\"# sound\"}, {:bind=>\"XF86AudioRaiseVolume\", :action=>\"exec --no-startup-id amixer -D pulse sset Master 3%+\", :commentary=>nil}, {:bind=>\"XF86AudioMute\", :action=>\"exec amixer -q -D pulse sset Master toggle\", :commentary=>nil}, {:bind=>\"XF86MonBrightnessDown\", :action=>\"exec xbacklight -dec 10\", :commentary=>\"# brightness\"}, {:bind=>\"XF86MonBrightnessUp\", :action=>\"exec xbacklight -inc 10\", :commentary=>nil}, {:bind=>\"mod1+control+l\", :action=>\"exec xscreensaver-command -lock\", :commentary=>\"# start xscreensaver\"}, {:bind=>\"$mod+Shift+49\", :action=>\"move scratchpad\", :commentary=>\"# scratchpad\"}, {:bind=>\"$mod+49\", :action=>\"scratchpad show\", :commentary=>nil}, {:bind=>\"$mod+Shift+P\", :action=>\"move workspace to output HDMI-1\", :commentary=>\"# keys to move workspace through outputs\"}, {:bind=>\"$mod+p\", :action=>\"move workspace to output eDP-1\", :commentary=>nil}]"
      ]
     },
     "execution_count": 111,
     "metadata": {},
     "output_type": "execute_result"
    }
   ],
   "source": [
    "File.new('config').read.scan(/(?<commentary>#.*\\n)?^bind(?:code|sym)\\s(?<bind>\\S*)\\s(?<action>.*)$/)\n",
    "  .map { |m| \n",
    "    commentary, bind, action = m\n",
    "    action.delete! \"\\n\" if action\n",
    "    action.strip! if action\n",
    "    commentary.delete! \"\\n\" if commentary\n",
    "    {\n",
    "      bind: bind,\n",
    "      action: action,\n",
    "      commentary: commentary\n",
    "    }\n",
    "  }\n",
    "  .reject { |line| line[:bind].nil? }\n",
    "  .reject { |line| line.empty? }\n",
    "  .each { |line|\n",
    "    printf(\"%-30s %-30s %s\\n\", line[:bind],line[:action],line[:commentary])\n",
    "  }"
   ]
  },
  {
   "cell_type": "code",
   "execution_count": null,
   "metadata": {},
   "outputs": [],
   "source": []
  }
 ],
 "metadata": {
  "kernelspec": {
   "display_name": "Ruby 2.4.1",
   "language": "ruby",
   "name": "ruby"
  },
  "language_info": {
   "file_extension": ".rb",
   "mimetype": "application/x-ruby",
   "name": "ruby",
   "version": "2.4.1"
  }
 },
 "nbformat": 4,
 "nbformat_minor": 2
}
